{
  "nbformat": 4,
  "nbformat_minor": 0,
  "metadata": {
    "colab": {
      "name": "Accident_Severity.ipynb",
      "provenance": [],
      "toc_visible": true,
      "mount_file_id": "1n30FCi2Gr8MCi2RcLvFixbpkZKMxjQEx",
      "authorship_tag": "ABX9TyPbJLGAoJurSatY9vNsgzzq",
      "include_colab_link": true
    },
    "kernelspec": {
      "name": "python3",
      "display_name": "Python 3"
    }
  },
  "cells": [
    {
      "cell_type": "markdown",
      "metadata": {
        "id": "view-in-github",
        "colab_type": "text"
      },
      "source": [
        "<a href=\"https://colab.research.google.com/github/siddharthgangwar25/Severity-of-Accident-Prediction-Coursera_Capstone/blob/master/Accident_Severity.ipynb\" target=\"_parent\"><img src=\"https://colab.research.google.com/assets/colab-badge.svg\" alt=\"Open In Colab\"/></a>"
      ]
    },
    {
      "cell_type": "markdown",
      "metadata": {
        "id": "t4bcyiFEypTS",
        "colab_type": "text"
      },
      "source": [
        "#**Severity of Accident Prediction**\n",
        "####Prediction of the severity of future accidents that take place using vital features extracted from the dataset consisting of accidents in Seattle from 2004 to Present (Coursera Capstone)"
      ]
    },
    {
      "cell_type": "code",
      "metadata": {
        "id": "-fCk9a1dw6Ha",
        "colab_type": "code",
        "colab": {}
      },
      "source": [
        "import pandas as pd\n",
        "import numpy as np\n",
        "import matplotlib.pyplot as plt\n",
        "import seaborn as sns"
      ],
      "execution_count": 9,
      "outputs": []
    },
    {
      "cell_type": "code",
      "metadata": {
        "id": "CjQaOooBudrh",
        "colab_type": "code",
        "colab": {
          "resources": {
            "http://localhost:8080/nbextensions/google.colab/files.js": {
              "data": "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",
              "ok": true,
              "headers": [
                [
                  "content-type",
                  "application/javascript"
                ]
              ],
              "status": 200,
              "status_text": ""
            }
          },
          "base_uri": "https://localhost:8080/",
          "height": 378
        },
        "outputId": "78354213-3fff-4b58-fcaf-e16d54e07148"
      },
      "source": [
        "from google.colab import files\n",
        "uploaded = files.upload()"
      ],
      "execution_count": 10,
      "outputs": [
        {
          "output_type": "display_data",
          "data": {
            "text/html": [
              "\n",
              "     <input type=\"file\" id=\"files-cb10e489-e79b-4585-9ea1-2a22b893abb3\" name=\"files[]\" multiple disabled\n",
              "        style=\"border:none\" />\n",
              "     <output id=\"result-cb10e489-e79b-4585-9ea1-2a22b893abb3\">\n",
              "      Upload widget is only available when the cell has been executed in the\n",
              "      current browser session. Please rerun this cell to enable.\n",
              "      </output>\n",
              "      <script src=\"/nbextensions/google.colab/files.js\"></script> "
            ],
            "text/plain": [
              "<IPython.core.display.HTML object>"
            ]
          },
          "metadata": {
            "tags": []
          }
        },
        {
          "output_type": "stream",
          "text": [
            "Saving Data-Collisions.csv to Data-Collisions (1).csv\n"
          ],
          "name": "stdout"
        },
        {
          "output_type": "error",
          "ename": "KeyboardInterrupt",
          "evalue": "ignored",
          "traceback": [
            "\u001b[0;31m---------------------------------------------------------------------------\u001b[0m",
            "\u001b[0;31mKeyboardInterrupt\u001b[0m                         Traceback (most recent call last)",
            "\u001b[0;32m<ipython-input-10-21dc3c638f66>\u001b[0m in \u001b[0;36m<module>\u001b[0;34m()\u001b[0m\n\u001b[1;32m      1\u001b[0m \u001b[0;32mfrom\u001b[0m \u001b[0mgoogle\u001b[0m\u001b[0;34m.\u001b[0m\u001b[0mcolab\u001b[0m \u001b[0;32mimport\u001b[0m \u001b[0mfiles\u001b[0m\u001b[0;34m\u001b[0m\u001b[0;34m\u001b[0m\u001b[0m\n\u001b[0;32m----> 2\u001b[0;31m \u001b[0muploaded\u001b[0m \u001b[0;34m=\u001b[0m \u001b[0mfiles\u001b[0m\u001b[0;34m.\u001b[0m\u001b[0mupload\u001b[0m\u001b[0;34m(\u001b[0m\u001b[0;34m)\u001b[0m\u001b[0;34m\u001b[0m\u001b[0;34m\u001b[0m\u001b[0m\n\u001b[0m",
            "\u001b[0;32m/usr/local/lib/python3.6/dist-packages/google/colab/files.py\u001b[0m in \u001b[0;36mupload\u001b[0;34m()\u001b[0m\n\u001b[1;32m     70\u001b[0m     result = _output.eval_js(\n\u001b[1;32m     71\u001b[0m         'google.colab._files._uploadFilesContinue(\"{output_id}\")'.format(\n\u001b[0;32m---> 72\u001b[0;31m             output_id=output_id))\n\u001b[0m\u001b[1;32m     73\u001b[0m     \u001b[0;32mif\u001b[0m \u001b[0mresult\u001b[0m\u001b[0;34m[\u001b[0m\u001b[0;34m'action'\u001b[0m\u001b[0;34m]\u001b[0m \u001b[0;34m!=\u001b[0m \u001b[0;34m'append'\u001b[0m\u001b[0;34m:\u001b[0m\u001b[0;34m\u001b[0m\u001b[0;34m\u001b[0m\u001b[0m\n\u001b[1;32m     74\u001b[0m       \u001b[0;31m# JS side uses a generator of promises to process all of the files- some\u001b[0m\u001b[0;34m\u001b[0m\u001b[0;34m\u001b[0m\u001b[0;34m\u001b[0m\u001b[0m\n",
            "\u001b[0;32m/usr/local/lib/python3.6/dist-packages/google/colab/output/_js.py\u001b[0m in \u001b[0;36meval_js\u001b[0;34m(script, ignore_result)\u001b[0m\n\u001b[1;32m     37\u001b[0m   \u001b[0;32mif\u001b[0m \u001b[0mignore_result\u001b[0m\u001b[0;34m:\u001b[0m\u001b[0;34m\u001b[0m\u001b[0;34m\u001b[0m\u001b[0m\n\u001b[1;32m     38\u001b[0m     \u001b[0;32mreturn\u001b[0m\u001b[0;34m\u001b[0m\u001b[0;34m\u001b[0m\u001b[0m\n\u001b[0;32m---> 39\u001b[0;31m   \u001b[0;32mreturn\u001b[0m \u001b[0m_message\u001b[0m\u001b[0;34m.\u001b[0m\u001b[0mread_reply_from_input\u001b[0m\u001b[0;34m(\u001b[0m\u001b[0mrequest_id\u001b[0m\u001b[0;34m)\u001b[0m\u001b[0;34m\u001b[0m\u001b[0;34m\u001b[0m\u001b[0m\n\u001b[0m\u001b[1;32m     40\u001b[0m \u001b[0;34m\u001b[0m\u001b[0m\n\u001b[1;32m     41\u001b[0m \u001b[0;34m\u001b[0m\u001b[0m\n",
            "\u001b[0;32m/usr/local/lib/python3.6/dist-packages/google/colab/_message.py\u001b[0m in \u001b[0;36mread_reply_from_input\u001b[0;34m(message_id, timeout_sec)\u001b[0m\n\u001b[1;32m     99\u001b[0m     \u001b[0mreply\u001b[0m \u001b[0;34m=\u001b[0m \u001b[0m_read_next_input_message\u001b[0m\u001b[0;34m(\u001b[0m\u001b[0;34m)\u001b[0m\u001b[0;34m\u001b[0m\u001b[0;34m\u001b[0m\u001b[0m\n\u001b[1;32m    100\u001b[0m     \u001b[0;32mif\u001b[0m \u001b[0mreply\u001b[0m \u001b[0;34m==\u001b[0m \u001b[0m_NOT_READY\u001b[0m \u001b[0;32mor\u001b[0m \u001b[0;32mnot\u001b[0m \u001b[0misinstance\u001b[0m\u001b[0;34m(\u001b[0m\u001b[0mreply\u001b[0m\u001b[0;34m,\u001b[0m \u001b[0mdict\u001b[0m\u001b[0;34m)\u001b[0m\u001b[0;34m:\u001b[0m\u001b[0;34m\u001b[0m\u001b[0;34m\u001b[0m\u001b[0m\n\u001b[0;32m--> 101\u001b[0;31m       \u001b[0mtime\u001b[0m\u001b[0;34m.\u001b[0m\u001b[0msleep\u001b[0m\u001b[0;34m(\u001b[0m\u001b[0;36m0.025\u001b[0m\u001b[0;34m)\u001b[0m\u001b[0;34m\u001b[0m\u001b[0;34m\u001b[0m\u001b[0m\n\u001b[0m\u001b[1;32m    102\u001b[0m       \u001b[0;32mcontinue\u001b[0m\u001b[0;34m\u001b[0m\u001b[0;34m\u001b[0m\u001b[0m\n\u001b[1;32m    103\u001b[0m     if (reply.get('type') == 'colab_reply' and\n",
            "\u001b[0;31mKeyboardInterrupt\u001b[0m: "
          ]
        }
      ]
    },
    {
      "cell_type": "code",
      "metadata": {
        "id": "uy5uMzq4ATYE",
        "colab_type": "code",
        "colab": {
          "base_uri": "https://localhost:8080/",
          "height": 88
        },
        "outputId": "2d66c0fb-c12d-455c-c211-265ca6ca8283"
      },
      "source": [
        "#Importing Dataset\n",
        "import io\n",
        "dataset = pd.read_csv(io.BytesIO(uploaded['Data-Collisions.csv']))\n",
        "Dataset.shape"
      ],
      "execution_count": null,
      "outputs": [
        {
          "output_type": "stream",
          "text": [
            "/usr/local/lib/python3.6/dist-packages/IPython/core/interactiveshell.py:2718: DtypeWarning: Columns (33) have mixed types.Specify dtype option on import or set low_memory=False.\n",
            "  interactivity=interactivity, compiler=compiler, result=result)\n"
          ],
          "name": "stderr"
        },
        {
          "output_type": "execute_result",
          "data": {
            "text/plain": [
              "(194673, 38)"
            ]
          },
          "metadata": {
            "tags": []
          },
          "execution_count": 7
        }
      ]
    },
    {
      "cell_type": "code",
      "metadata": {
        "id": "IUzmXg13BvJ8",
        "colab_type": "code",
        "colab": {
          "base_uri": "https://localhost:8080/",
          "height": 853
        },
        "outputId": "04697529-0cb7-4174-de96-2fbbd1f28c4b"
      },
      "source": [
        "Dataset.head()"
      ],
      "execution_count": null,
      "outputs": [
        {
          "output_type": "execute_result",
          "data": {
            "text/html": [
              "<div>\n",
              "<style scoped>\n",
              "    .dataframe tbody tr th:only-of-type {\n",
              "        vertical-align: middle;\n",
              "    }\n",
              "\n",
              "    .dataframe tbody tr th {\n",
              "        vertical-align: top;\n",
              "    }\n",
              "\n",
              "    .dataframe thead th {\n",
              "        text-align: right;\n",
              "    }\n",
              "</style>\n",
              "<table border=\"1\" class=\"dataframe\">\n",
              "  <thead>\n",
              "    <tr style=\"text-align: right;\">\n",
              "      <th></th>\n",
              "      <th></th>\n",
              "      <th></th>\n",
              "      <th></th>\n",
              "      <th></th>\n",
              "      <th></th>\n",
              "      <th></th>\n",
              "      <th></th>\n",
              "      <th></th>\n",
              "      <th></th>\n",
              "      <th></th>\n",
              "      <th></th>\n",
              "      <th></th>\n",
              "      <th></th>\n",
              "      <th></th>\n",
              "      <th></th>\n",
              "      <th></th>\n",
              "      <th></th>\n",
              "      <th></th>\n",
              "      <th></th>\n",
              "      <th></th>\n",
              "      <th>3/26/2004 1:33:00 PM</th>\n",
              "      <th>At Intersection (intersection related)</th>\n",
              "      <th>11</th>\n",
              "      <th>MOTOR VEHICLE STRUCK MOTOR VEHICLE, FRONT END AT ANGLE</th>\n",
              "      <th>Unnamed: 4</th>\n",
              "      <th>1</th>\n",
              "      <th>Clear</th>\n",
              "      <th>Dry</th>\n",
              "      <th>Daylight</th>\n",
              "      <th>Unnamed: 9</th>\n",
              "      <th>4086020</th>\n",
              "      <th>Unnamed: 11</th>\n",
              "      <th>10</th>\n",
              "      <th>Entering at angle</th>\n",
              "      <th>0</th>\n",
              "      <th>0.1</th>\n",
              "      <th>N</th>\n",
              "    </tr>\n",
              "  </thead>\n",
              "  <tbody>\n",
              "    <tr>\n",
              "      <th>1</th>\n",
              "      <th>-122.387013</th>\n",
              "      <th>47.553001</th>\n",
              "      <th>17565</th>\n",
              "      <th>30937</th>\n",
              "      <th>30937</th>\n",
              "      <th>1798161</th>\n",
              "      <th>Matched</th>\n",
              "      <th>Block</th>\n",
              "      <th>NaN</th>\n",
              "      <th>CALIFORNIA AVE SW BETWEEN SW BRANDON ST AND SW FINDLAY ST</th>\n",
              "      <th>NaN</th>\n",
              "      <th>NaN</th>\n",
              "      <th>1</th>\n",
              "      <th>Property Damage Only Collision</th>\n",
              "      <th>Parked Car</th>\n",
              "      <th>3</th>\n",
              "      <th>0</th>\n",
              "      <th>0</th>\n",
              "      <th>3</th>\n",
              "      <th>2004/06/29 00:00:00+00</th>\n",
              "      <td>6/29/2004 2:05:00 PM</td>\n",
              "      <td>Mid-Block (not related to intersection)</td>\n",
              "      <td>16.0</td>\n",
              "      <td>MOTOR VEHICLE STRUCK MOTOR VEHICLE, LEFT SIDE ...</td>\n",
              "      <td>NaN</td>\n",
              "      <td>0</td>\n",
              "      <td>Clear</td>\n",
              "      <td>Dry</td>\n",
              "      <td>Daylight</td>\n",
              "      <td>NaN</td>\n",
              "      <td>4181015.0</td>\n",
              "      <td>NaN</td>\n",
              "      <td>32.0</td>\n",
              "      <td>One parked--one moving</td>\n",
              "      <td>0.0</td>\n",
              "      <td>0.0</td>\n",
              "      <td>N</td>\n",
              "    </tr>\n",
              "    <tr>\n",
              "      <th rowspan=\"2\" valign=\"top\">2</th>\n",
              "      <th>-122.278455</th>\n",
              "      <th>47.511642</th>\n",
              "      <th>17567</th>\n",
              "      <th>30104</th>\n",
              "      <th>30104</th>\n",
              "      <th>1786499</th>\n",
              "      <th>Matched</th>\n",
              "      <th>Block</th>\n",
              "      <th>NaN</th>\n",
              "      <th>M L KING JR ER WAY S BETWEEN S NORFOLK ST AND CITY LIMITS</th>\n",
              "      <th>NaN</th>\n",
              "      <th>NaN</th>\n",
              "      <th>2</th>\n",
              "      <th>Injury Collision</th>\n",
              "      <th>Other</th>\n",
              "      <th>3</th>\n",
              "      <th>0</th>\n",
              "      <th>0</th>\n",
              "      <th>2</th>\n",
              "      <th>2004/04/15 00:00:00+00</th>\n",
              "      <td>4/15/2004 9:49:00 PM</td>\n",
              "      <td>Driveway Junction</td>\n",
              "      <td>11.0</td>\n",
              "      <td>MOTOR VEHICLE STRUCK MOTOR VEHICLE, FRONT END ...</td>\n",
              "      <td>NaN</td>\n",
              "      <td>0</td>\n",
              "      <td>Clear</td>\n",
              "      <td>Dry</td>\n",
              "      <td>Dark - Street Lights On</td>\n",
              "      <td>NaN</td>\n",
              "      <td>4106021.0</td>\n",
              "      <td>NaN</td>\n",
              "      <td>22.0</td>\n",
              "      <td>One car leaving driveway access</td>\n",
              "      <td>0.0</td>\n",
              "      <td>0.0</td>\n",
              "      <td>N</td>\n",
              "    </tr>\n",
              "    <tr>\n",
              "      <th>-122.313373</th>\n",
              "      <th>47.575992</th>\n",
              "      <th>17568</th>\n",
              "      <th>30119</th>\n",
              "      <th>30119</th>\n",
              "      <th>1793381</th>\n",
              "      <th>Matched</th>\n",
              "      <th>Intersection</th>\n",
              "      <th>31326.0</th>\n",
              "      <th>15TH AVE S AND S WINTHROP ST</th>\n",
              "      <th>NaN</th>\n",
              "      <th>NaN</th>\n",
              "      <th>2</th>\n",
              "      <th>Injury Collision</th>\n",
              "      <th>Left Turn</th>\n",
              "      <th>2</th>\n",
              "      <th>0</th>\n",
              "      <th>0</th>\n",
              "      <th>2</th>\n",
              "      <th>2004/10/02 00:00:00+00</th>\n",
              "      <td>10/2/2004</td>\n",
              "      <td>At Intersection (intersection related)</td>\n",
              "      <td>11.0</td>\n",
              "      <td>MOTOR VEHICLE STRUCK MOTOR VEHICLE, FRONT END ...</td>\n",
              "      <td>NaN</td>\n",
              "      <td>0</td>\n",
              "      <td>Clear</td>\n",
              "      <td>Dry</td>\n",
              "      <td>Daylight</td>\n",
              "      <td>NaN</td>\n",
              "      <td>4276023.0</td>\n",
              "      <td>NaN</td>\n",
              "      <td>28.0</td>\n",
              "      <td>From opposite direction - one left turn - one ...</td>\n",
              "      <td>0.0</td>\n",
              "      <td>0.0</td>\n",
              "      <td>N</td>\n",
              "    </tr>\n",
              "    <tr>\n",
              "      <th rowspan=\"2\" valign=\"top\">1</th>\n",
              "      <th>-122.328973</th>\n",
              "      <th>47.597453</th>\n",
              "      <th>17569</th>\n",
              "      <th>29467</th>\n",
              "      <th>29467</th>\n",
              "      <th>1321792</th>\n",
              "      <th>Matched</th>\n",
              "      <th>Block</th>\n",
              "      <th>NaN</th>\n",
              "      <th>4TH AVE S BETWEEN 2ND AV ET S AND SEATTLE BLVD S</th>\n",
              "      <th>NaN</th>\n",
              "      <th>NaN</th>\n",
              "      <th>1</th>\n",
              "      <th>Property Damage Only Collision</th>\n",
              "      <th>Sideswipe</th>\n",
              "      <th>3</th>\n",
              "      <th>0</th>\n",
              "      <th>0</th>\n",
              "      <th>2</th>\n",
              "      <th>2004/08/23 00:00:00+00</th>\n",
              "      <td>8/23/2004 6:31:00 PM</td>\n",
              "      <td>Mid-Block (not related to intersection)</td>\n",
              "      <td>14.0</td>\n",
              "      <td>MOTOR VEHICLE STRUCK MOTOR VEHICLE, REAR END</td>\n",
              "      <td>NaN</td>\n",
              "      <td>0</td>\n",
              "      <td>Clear</td>\n",
              "      <td>Dry</td>\n",
              "      <td>Daylight</td>\n",
              "      <td>NaN</td>\n",
              "      <td>4236006.0</td>\n",
              "      <td>NaN</td>\n",
              "      <td>11.0</td>\n",
              "      <td>From same direction - both going straight - bo...</td>\n",
              "      <td>0.0</td>\n",
              "      <td>0.0</td>\n",
              "      <td>N</td>\n",
              "    </tr>\n",
              "    <tr>\n",
              "      <th>-122.252363</th>\n",
              "      <th>47.509716</th>\n",
              "      <th>17570</th>\n",
              "      <th>30615</th>\n",
              "      <th>30615</th>\n",
              "      <th>1771389</th>\n",
              "      <th>Matched</th>\n",
              "      <th>Intersection</th>\n",
              "      <th>38225.0</th>\n",
              "      <th>65TH AVE S AND S RYAN ST</th>\n",
              "      <th>NaN</th>\n",
              "      <th>NaN</th>\n",
              "      <th>1</th>\n",
              "      <th>Property Damage Only Collision</th>\n",
              "      <th>Angles</th>\n",
              "      <th>4</th>\n",
              "      <th>0</th>\n",
              "      <th>0</th>\n",
              "      <th>2</th>\n",
              "      <th>2004/04/02 00:00:00+00</th>\n",
              "      <td>4/2/2004</td>\n",
              "      <td>At Intersection (intersection related)</td>\n",
              "      <td>11.0</td>\n",
              "      <td>MOTOR VEHICLE STRUCK MOTOR VEHICLE, FRONT END ...</td>\n",
              "      <td>NaN</td>\n",
              "      <td>0</td>\n",
              "      <td>Clear</td>\n",
              "      <td>Dry</td>\n",
              "      <td>Daylight</td>\n",
              "      <td>NaN</td>\n",
              "      <td>4093023.0</td>\n",
              "      <td>NaN</td>\n",
              "      <td>10.0</td>\n",
              "      <td>Entering at angle</td>\n",
              "      <td>0.0</td>\n",
              "      <td>0.0</td>\n",
              "      <td>N</td>\n",
              "    </tr>\n",
              "  </tbody>\n",
              "</table>\n",
              "</div>"
            ],
            "text/plain": [
              "                                                                                                                                                                                                                       3/26/2004 1:33:00 PM  ...  N\n",
              "1 -122.387013 47.553001 17565 30937 30937 1798161 Matched Block        NaN      CALIFORNIA AVE SW BETWEEN SW BRANDON ST AND SW ... NaN NaN 1 Property Damage Only Collision Parked Car 3 0 0 3 2004/06/29 00:00:00+00  6/29/2004 2:05:00 PM  ...  N\n",
              "2 -122.278455 47.511642 17567 30104 30104 1786499 Matched Block        NaN      M L KING JR ER WAY S BETWEEN S NORFOLK ST AND C... NaN NaN 2 Injury Collision               Other      3 0 0 2 2004/04/15 00:00:00+00  4/15/2004 9:49:00 PM  ...  N\n",
              "  -122.313373 47.575992 17568 30119 30119 1793381 Matched Intersection 31326.0  15TH AVE S AND S WINTHROP ST                       NaN NaN 2 Injury Collision               Left Turn  2 0 0 2 2004/10/02 00:00:00+00             10/2/2004  ...  N\n",
              "1 -122.328973 47.597453 17569 29467 29467 1321792 Matched Block        NaN      4TH AVE S BETWEEN 2ND AV ET S AND SEATTLE BLVD S   NaN NaN 1 Property Damage Only Collision Sideswipe  3 0 0 2 2004/08/23 00:00:00+00  8/23/2004 6:31:00 PM  ...  N\n",
              "  -122.252363 47.509716 17570 30615 30615 1771389 Matched Intersection 38225.0  65TH AVE S AND S RYAN ST                           NaN NaN 1 Property Damage Only Collision Angles     4 0 0 2 2004/04/02 00:00:00+00              4/2/2004  ...  N\n",
              "\n",
              "[5 rows x 17 columns]"
            ]
          },
          "metadata": {
            "tags": []
          },
          "execution_count": 4
        }
      ]
    },
    {
      "cell_type": "code",
      "metadata": {
        "id": "6CqpymkGs04O",
        "colab_type": "code",
        "colab": {}
      },
      "source": [
        "#Converting Severity Code from (1/2) tp (0/1)\n",
        "from sklearn import preprocessing\n",
        "severity_code = Dataset['SEVERITYCODE'].values\n",
        "labels = preprocessing.LabelEncoder()\n",
        "labels.fit([1, 2])\n",
        "severity_code = labels.transform (severity_code)\n",
        "Dataset[\"SEVERITYCODE\"] = severity_code"
      ],
      "execution_count": null,
      "outputs": []
    },
    {
      "cell_type": "code",
      "metadata": {
        "id": "LrSZ_dcIs2qc",
        "colab_type": "code",
        "colab": {}
      },
      "source": [
        "#Encoding inattention (0 = No, 1 = Yes)\n",
        "Dataset[\"INATTENTIONIND\"].replace(\"Y\", 1, inplace=True)\n",
        "Dataset[\"INATTENTIONIND\"].replace(np.nan, 0, inplace=True)\n",
        "\n",
        "#Encoding Under influence (0 = No, 1 = Yes)\n",
        "Dataset[\"UNDERINFL\"].replace(\"N\", int(0), inplace=True)\n",
        "Dataset[\"UNDERINFL\"].replace(\"Y\", int(1), inplace=True)\n",
        "\n",
        "#Encoding Speeding (0 = No, 1 = Yes)\n",
        "Dataset[\"SPEEDING\"].replace(\"Y\", 1, inplace=True)\n",
        "Dataset[\"SPEEDING\"].replace(np.nan, int(0), inplace=True)\n",
        "\n",
        "#Encoding Road Conditions(0 = Dry, 1 = Mushy, 2 = Wet)\n",
        "Dataset[\"ROADCOND\"].replace(\"Dry\", 0, inplace=True)\n",
        "Dataset[\"ROADCOND\"].replace(\"Wet\", 2, inplace=True)\n",
        "Dataset[\"ROADCOND\"].replace(\"Ice\", 2, inplace=True)\n",
        "Dataset[\"ROADCOND\"].replace(\"Snow/Slush\", 1, inplace=True)\n",
        "Dataset[\"ROADCOND\"].replace(\"Other\", \"Unknown\", inplace=True)\n",
        "Dataset[\"ROADCOND\"].replace(\"Standing Water\", 2, inplace=True)\n",
        "Dataset[\"ROADCOND\"].replace(\"Sand/Mud/Dirt\", 1, inplace=True)\n",
        "Dataset[\"ROADCOND\"].replace(\"Oil\", 2, inplace=True)\n",
        "\n",
        "#Encoding Weather Conditions(0 = Clear, 1 = Overcast and Cloudy, 2 = Windy, 3 = Rain and Snow\n",
        "Dataset[\"WEATHER\"].replace(\"Clear\", 0, inplace=True)\n",
        "Dataset[\"WEATHER\"].replace(\"Raining\", 3, inplace=True)\n",
        "Dataset[\"WEATHER\"].replace(\"Overcast\", 1, inplace=True)\n",
        "Dataset[\"WEATHER\"].replace(\"Other\", \"Unknown\", inplace=True)\n",
        "Dataset[\"WEATHER\"].replace(\"Snowing\", 3, inplace=True)\n",
        "Dataset[\"WEATHER\"].replace(\"Fog/Smog/Smoke\", 2, inplace=True)\n",
        "Dataset[\"WEATHER\"].replace(\"Sleet/Hail/Freezing Rain\", 3, inplace=True)\n",
        "Dataset[\"WEATHER\"].replace(\"Blowing Sand/Dirt\", 2, inplace=True)\n",
        "Dataset[\"WEATHER\"].replace(\"Severe Crosswind\", 2, inplace=True)\n",
        "Dataset[\"WEATHER\"].replace(\"Partly Cloudy\", 1, inplace=True)\n",
        "\n",
        "#Encoding Light Conditions(0 = Light, 1 = Medium, 2 = Dark)\n",
        "Dataset[\"LIGHTCOND\"].replace(\"Daylight\", 0, inplace=True)\n",
        "Dataset[\"LIGHTCOND\"].replace(\"Dark - Street Lights On\", 1, inplace=True)\n",
        "Dataset[\"LIGHTCOND\"].replace(\"Dark - No Street Lights\", 2, inplace=True)\n",
        "Dataset[\"LIGHTCOND\"].replace(\"Dusk\", 1, inplace=True)\n",
        "Dataset[\"LIGHTCOND\"].replace(\"Dawn\", 1, inplace=True)\n",
        "Dataset[\"LIGHTCOND\"].replace(\"Dark - Street Lights Off\", 2, inplace=True)\n",
        "Dataset[\"LIGHTCOND\"].replace(\"Dark - Unknown Lighting\", 2, inplace=True)\n",
        "Dataset[\"LIGHTCOND\"].replace(\"Other\",\"Unknown\", inplace=True)"
      ],
      "execution_count": null,
      "outputs": []
    },
    {
      "cell_type": "code",
      "metadata": {
        "id": "7jQ6xk21s4Mj",
        "colab_type": "code",
        "colab": {}
      },
      "source": [
        "coltype=Dataset['COLLISIONTYPE'].value_counts()\n",
        "coltype.plot(kind='pie',\n",
        "            figsize=(15, 6),\n",
        "            autopct='%1.1f%%',\n",
        "            startangle=90,\n",
        "            shadow=True,\n",
        "            labels=None,\n",
        "            pctdistance=1.12)\n",
        "\n",
        "plt.title('Collision Type - Seattle, Washington', fontsize=18, y=1.05)\n",
        "plt.axis('equal')\n",
        "plt.legend(labels=coltype.index)\n",
        "\n",
        "plt.show()"
      ],
      "execution_count": null,
      "outputs": []
    },
    {
      "cell_type": "code",
      "metadata": {
        "id": "mrFvTTQIs9rz",
        "colab_type": "code",
        "colab": {}
      },
      "source": [
        "dff=Dataset[['UNDERINFL']]\n",
        "dff=dff.dropna()\n",
        "dff['UNDERINFL'] = dff['UNDERINFL'].astype(int)\n",
        "dff['UNDERINFL'].value_counts()\n",
        "\n",
        "INFL=dff['UNDERINFL'].value_counts()\n",
        "INFL.plot(kind='pie',\n",
        "            figsize=(15, 6),\n",
        "            autopct='%1.1f%%',\n",
        "            startangle=90,\n",
        "            shadow=True,\n",
        "            labels=None,\n",
        "            pctdistance=1.12,\n",
        "            explode=(0, 0.2))\n",
        "\n",
        "plt.title('Collision under influence of drugs or alcohol', fontsize=18, y=1.05)\n",
        "plt.axis('equal')\n",
        "plt.legend(labels=['No','Yes'])\n",
        "plt.show()"
      ],
      "execution_count": null,
      "outputs": []
    },
    {
      "cell_type": "code",
      "metadata": {
        "id": "8dkhMCuStAh7",
        "colab_type": "code",
        "colab": {}
      },
      "source": [
        "#Feature Selection\n",
        "df=Dataset[[\"X\",\"Y\",\"INCKEY\",\"INATTENTIONIND\",\"UNDERINFL\",\"WEATHER\",\"ROADCOND\",\"LIGHTCOND\",\"SPEEDING\",\"SEVERITYCODE\"]]\n",
        "df"
      ],
      "execution_count": null,
      "outputs": []
    },
    {
      "cell_type": "code",
      "metadata": {
        "id": "vvzJPhCVtBIC",
        "colab_type": "code",
        "colab": {}
      },
      "source": [
        "print(df.isnull().sum())  #Null Values"
      ],
      "execution_count": null,
      "outputs": []
    },
    {
      "cell_type": "code",
      "metadata": {
        "id": "4RJeyZDitDOr",
        "colab_type": "code",
        "colab": {}
      },
      "source": [
        "df = df.dropna()  #Dropping the missing values.\n",
        "df.count()"
      ],
      "execution_count": null,
      "outputs": []
    },
    {
      "cell_type": "code",
      "metadata": {
        "id": "jgnB1Qa8tEws",
        "colab_type": "code",
        "colab": {}
      },
      "source": [
        "print(df.isnull().sum()) #Current number of missing values"
      ],
      "execution_count": null,
      "outputs": []
    },
    {
      "cell_type": "code",
      "metadata": {
        "id": "CKIlyxyMtGQj",
        "colab_type": "code",
        "colab": {}
      },
      "source": [
        "#Fixing 'Others' value\n",
        "feature_df=df.copy()\n",
        "\n",
        "feature_df.dropna(axis=0,how='any',inplace=True)\n",
        "feature_stats=feature_df.describe()\n",
        "\n",
        "np.count_nonzero(feature_df['UNDERINFL'])\n",
        "\n",
        "    #Light Condition\n",
        "lightcondsize = feature_df [\"LIGHTCOND\"].size\n",
        "\n",
        "featureinlightcond = feature_df ['LIGHTCOND'] == 'Unknown'\n",
        "\n",
        "lightcond = feature_df['LIGHTCOND']\n",
        "lightcond = lightcond.values\n",
        "lightcond = lightcond[featureinlightcond]\n",
        "\n",
        "lightcond[0:9036]=0\n",
        "lightcond[9036:13417]=1\n",
        "lightcond[13417:13961]=2\n",
        "feature_df.loc [feature_df.LIGHTCOND == \"Unknown\", 'LIGHTCOND'] = lightcond\n",
        "\n",
        "feature_df[\"LIGHTCOND\"]=feature_df[\"LIGHTCOND\"].astype(int)\n",
        "\n",
        "\n",
        "roadcondsize = feature_df [\"ROADCOND\"].size\n",
        "\n",
        "featureinroadcond = feature_df ['ROADCOND'] == 'Unknown'\n",
        "\n",
        "roadcond = feature_df['LIGHTCOND']\n",
        "roadcond = roadcond.values\n",
        "roadcond = roadcond[featureinroadcond]\n",
        "\n",
        "roadcond[0:9954]=0\n",
        "roadcond[9954:10040]=1\n",
        "roadcond[10040:15163]=2\n",
        "\n",
        "feature_df.loc[feature_df.ROADCOND == \"Unknown\", 'ROADCOND'] = roadcond\n",
        "feature_df[\"ROADCOND\"]=feature_df[\"ROADCOND\"].astype(int)\n",
        "\n",
        " #Weather Condition\n",
        "weathersize = feature_df [\"WEATHER\"].size\n",
        "\n",
        "featureinweather = feature_df ['WEATHER'] == 'Unknown'\n",
        "\n",
        "weather = feature_df['WEATHER']\n",
        "weather = weather.values\n",
        "weather = weather[featureinweather]\n",
        "\n",
        "weather[0:10151]=0\n",
        "weather[10151:12683]=1\n",
        "weather[12683:12742]=2\n",
        "weather[12742:15864]=3\n",
        "\n",
        "feature_df.loc[feature_df.WEATHER == \"Unknown\", 'WEATHER'] = weather\n",
        "feature_df[\"WEATHER\"]=feature_df[\"WEATHER\"].astype(int)\n",
        "\n",
        "    #Converting remaining to int\n",
        "feature_df[\"SPEEDING\"]=feature_df[\"SPEEDING\"].astype(int)\n",
        "feature_df[\"INATTENTIONIND\"]=feature_df[\"INATTENTIONIND\"].astype(int)\n",
        "feature_df[\"UNDERINFL\"]=feature_df[\"UNDERINFL\"].astype(int)"
      ],
      "execution_count": null,
      "outputs": []
    },
    {
      "cell_type": "code",
      "metadata": {
        "id": "lYP3sZZJtPsF",
        "colab_type": "code",
        "colab": {}
      },
      "source": [
        "feature_df.info()"
      ],
      "execution_count": null,
      "outputs": []
    },
    {
      "cell_type": "code",
      "metadata": {
        "id": "0VCoRN_itR2E",
        "colab_type": "code",
        "colab": {}
      },
      "source": [
        "#Machine Learning Set\n",
        "X=feature_df[[\"SPEEDING\",\"INATTENTIONIND\",\"UNDERINFL\",\"ROADCOND\",\"WEATHER\",\"LIGHTCOND\"]].values\n",
        "y=feature_df[[\"SEVERITYCODE\"]].values"
      ],
      "execution_count": null,
      "outputs": []
    },
    {
      "cell_type": "code",
      "metadata": {
        "id": "eeMNvdoLtTQ1",
        "colab_type": "code",
        "colab": {}
      },
      "source": [
        "#Train/Test Split\n",
        "from sklearn.model_selection import train_test_split\n",
        "X_train, X_test, y_train, y_test = train_test_split(X, y, test_size=0.3, random_state=4)\n",
        "print ('Train set:', X_train.shape,  y_train.shape)\n",
        "print ('Test set:', X_test.shape,  y_test.shape)"
      ],
      "execution_count": null,
      "outputs": []
    },
    {
      "cell_type": "code",
      "metadata": {
        "id": "Re3wuo03tUrE",
        "colab_type": "code",
        "colab": {}
      },
      "source": [
        "import folium\n",
        "import webbrowser\n",
        "from folium import plugins\n",
        "\n",
        "#Make reduced df from feature_df to get a few random points to make map\n",
        "limit = 100005\n",
        "reduced_df = feature_df.iloc [0:limit:5, 0:]\n",
        "\n",
        "#Folium Map\n",
        "# let's start again with a clean copy of the map of San Francisco\n",
        "seattle_map = folium.Map(location=[47.61536892, -122.3302243], zoom_start=10)\n",
        "\n",
        "# instantiate a mark cluster object for the incidents in the dataframe\n",
        "incidents = plugins.MarkerCluster().add_to(seattle_map)\n",
        "\n",
        "# loop through the dataframe and add each data point to the mark cluster\n",
        "for lat, lng, label, in zip(reduced_df.Y, reduced_df.X, reduced_df.SEVERITYCODE):\n",
        "    folium.Marker(\n",
        "    location=[lat, lng],\n",
        "    icon=None,\n",
        "    popup=label,\n",
        "    ).add_to(incidents)\n",
        "\n",
        "seattle_map.add_child(incidents)\n",
        "\n",
        "# display map\n",
        "seattle_map\n",
        "seattle_map.save(\"seattlemap.html\")\n",
        "webbrowser.open(\"seattlemap.html\")"
      ],
      "execution_count": null,
      "outputs": []
    },
    {
      "cell_type": "code",
      "metadata": {
        "id": "ww8F6XkHtWMz",
        "colab_type": "code",
        "colab": {}
      },
      "source": [
        "from sklearn.metrics import accuracy_score,f1_score,log_loss,classification_report,confusion_matrix,jaccard_score\n",
        "from sklearn.tree import DecisionTreeClassifier\n",
        "DT = DecisionTreeClassifier(criterion=\"entropy\", max_depth=6)\n",
        "DT.fit(X_train,y_train)\n",
        "\n",
        "        #Make Prediction:\n",
        "pred_DT = DT.predict(X_test)\n",
        "\n",
        "        #Check Accuracy\n",
        "print('Accuracy score for Decision Tree = ', accuracy_score(pred_DT, y_test))"
      ],
      "execution_count": null,
      "outputs": []
    },
    {
      "cell_type": "code",
      "metadata": {
        "id": "byirMh7EtXgk",
        "colab_type": "code",
        "colab": {}
      },
      "source": [
        "from sklearn.metrics import classification_report, confusion_matrix\n",
        "import itertools\n",
        "def plot_confusion_matrix(cm, classes,\n",
        "                          normalize=False,\n",
        "                          title='Confusion matrix',\n",
        "                          cmap=plt.cm.Blues):\n",
        "   \n",
        "    if normalize:\n",
        "        cm = cm.astype('float') / cm.sum(axis=1)[:, np.newaxis]\n",
        "        print(\"Normalized confusion matrix\")\n",
        "    else:\n",
        "        print('Confusion matrix, without normalization')\n",
        "\n",
        "    print(cm)\n",
        "\n",
        "    plt.imshow(cm, interpolation='nearest', cmap=cmap)\n",
        "    plt.title(title)\n",
        "    plt.colorbar()\n",
        "    tick_marks = np.arange(len(classes))\n",
        "    plt.xticks(tick_marks, classes, rotation=45)\n",
        "    plt.yticks(tick_marks, classes)\n",
        "\n",
        "    fmt = '.2f' if normalize else 'd'\n",
        "    thresh = cm.max() / 2.\n",
        "    for i, j in itertools.product(range(cm.shape[0]), range(cm.shape[1])):\n",
        "        plt.text(j, i, format(cm[i, j], fmt),\n",
        "                 horizontalalignment=\"center\",\n",
        "                 color=\"white\" if cm[i, j] > thresh else \"black\")\n",
        "\n",
        "    plt.tight_layout()\n",
        "    plt.ylabel('True label')\n",
        "    plt.xlabel('Predicted label')"
      ],
      "execution_count": null,
      "outputs": []
    },
    {
      "cell_type": "code",
      "metadata": {
        "id": "D2OSPR1EtZJD",
        "colab_type": "code",
        "colab": {}
      },
      "source": [
        "#Plot confusion matrix\n",
        "cnf_matrix = confusion_matrix(y_test, pred_DT, labels=[1,0])\n",
        "np.set_printoptions(precision=2)\n",
        "\n",
        "plt.figure()\n",
        "plot_confusion_matrix(cnf_matrix, classes=['Injury=1','Property Damage=0'],normalize= False,  title='Confusion matrix')"
      ],
      "execution_count": null,
      "outputs": []
    },
    {
      "cell_type": "code",
      "metadata": {
        "id": "P68c2PtgtawT",
        "colab_type": "code",
        "colab": {}
      },
      "source": [
        "#Logistic Regression\n",
        "from sklearn.linear_model import LogisticRegression\n",
        "LR = LogisticRegression(C=0.01, solver='liblinear').fit(X_train,y_train)\n",
        "\n",
        "yhatLR = LR.predict(X_test)\n",
        "yhat_prob = LR.predict_proba(X_test)\n",
        "\n",
        "print (\"Accuracy\", accuracy_score(yhatLR,y_test))"
      ],
      "execution_count": null,
      "outputs": []
    },
    {
      "cell_type": "code",
      "metadata": {
        "id": "tCBTKg4htczA",
        "colab_type": "code",
        "colab": {}
      },
      "source": [
        "#Plot confusion matrix\n",
        "cnf_matrix = confusion_matrix(y_test, yhatLR, labels=[1,0])\n",
        "np.set_printoptions(precision=2)\n",
        "plt.figure()\n",
        "plot_confusion_matrix(cnf_matrix, classes=['Injury=1','Property Damage=0'],normalize= False,  title='Confusion matrix')"
      ],
      "execution_count": null,
      "outputs": []
    }
  ]
}