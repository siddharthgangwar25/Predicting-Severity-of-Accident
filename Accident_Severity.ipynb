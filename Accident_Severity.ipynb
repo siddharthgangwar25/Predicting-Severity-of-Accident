{
  "nbformat": 4,
  "nbformat_minor": 0,
  "metadata": {
    "colab": {
      "name": "Accident_Severity.ipynb",
      "provenance": [],
      "toc_visible": true,
      "mount_file_id": "1n30FCi2Gr8MCi2RcLvFixbpkZKMxjQEx",
      "authorship_tag": "ABX9TyP8ZqFhSKTkpLWOnJpKD/vg",
      "include_colab_link": true
    },
    "kernelspec": {
      "name": "python3",
      "display_name": "Python 3"
    }
  },
  "cells": [
    {
      "cell_type": "markdown",
      "metadata": {
        "id": "view-in-github",
        "colab_type": "text"
      },
      "source": [
        "<a href=\"https://colab.research.google.com/github/siddharthgangwar25/Severity-of-Accident-Prediction-Coursera_Capstone/blob/master/Accident_Severity.ipynb\" target=\"_parent\"><img src=\"https://colab.research.google.com/assets/colab-badge.svg\" alt=\"Open In Colab\"/></a>"
      ]
    },
    {
      "cell_type": "markdown",
      "metadata": {
        "id": "t4bcyiFEypTS",
        "colab_type": "text"
      },
      "source": [
        "#**Severity of Accident Prediction**\n",
        "####Prediction of the severity of future accidents that take place using vital features extracted from the dataset consisting of accidents in Seattle from 2004 to Present (Coursera Capstone)"
      ]
    },
    {
      "cell_type": "code",
      "metadata": {
        "id": "-fCk9a1dw6Ha",
        "colab_type": "code",
        "colab": {}
      },
      "source": [
        "import pandas as pd\n",
        "import numpy as np\n",
        "import matplotlib.pyplot as plt\n",
        "import seaborn as sns"
      ],
      "execution_count": 13,
      "outputs": []
    },
    {
      "cell_type": "code",
      "metadata": {
        "id": "CjQaOooBudrh",
        "colab_type": "code",
        "colab": {
          "base_uri": "https://localhost:8080/",
          "height": 54
        },
        "outputId": "55027631-4e28-4864-8519-0211686c8614"
      },
      "source": [
        "from google.colab import drive\n",
        "drive.mount('/content/drive')"
      ],
      "execution_count": 14,
      "outputs": [
        {
          "output_type": "stream",
          "text": [
            "Drive already mounted at /content/drive; to attempt to forcibly remount, call drive.mount(\"/content/drive\", force_remount=True).\n"
          ],
          "name": "stdout"
        }
      ]
    },
    {
      "cell_type": "code",
      "metadata": {
        "id": "uy5uMzq4ATYE",
        "colab_type": "code",
        "colab": {
          "base_uri": "https://localhost:8080/",
          "height": 88
        },
        "outputId": "6c792b80-a978-4050-a826-cfefc0f68eb6"
      },
      "source": [
        "#Importing Dataset\n",
        "path = '/content/drive/My Drive/Colab Notebooks/Data-Collisions.csv'\n",
        "Dataset = pd.read_csv(path)\n",
        "Dataset.shape"
      ],
      "execution_count": 20,
      "outputs": [
        {
          "output_type": "stream",
          "text": [
            "/usr/local/lib/python3.6/dist-packages/IPython/core/interactiveshell.py:2718: DtypeWarning: Columns (33) have mixed types.Specify dtype option on import or set low_memory=False.\n",
            "  interactivity=interactivity, compiler=compiler, result=result)\n"
          ],
          "name": "stderr"
        },
        {
          "output_type": "execute_result",
          "data": {
            "text/plain": [
              "(194673, 38)"
            ]
          },
          "metadata": {
            "tags": []
          },
          "execution_count": 20
        }
      ]
    },
    {
      "cell_type": "code",
      "metadata": {
        "id": "IUzmXg13BvJ8",
        "colab_type": "code",
        "colab": {
          "base_uri": "https://localhost:8080/",
          "height": 700
        },
        "outputId": "2f4c694b-aa86-4ea9-933a-9811efd0e76d"
      },
      "source": [
        "Dataset.head()"
      ],
      "execution_count": 21,
      "outputs": [
        {
          "output_type": "execute_result",
          "data": {
            "text/html": [
              "<div>\n",
              "<style scoped>\n",
              "    .dataframe tbody tr th:only-of-type {\n",
              "        vertical-align: middle;\n",
              "    }\n",
              "\n",
              "    .dataframe tbody tr th {\n",
              "        vertical-align: top;\n",
              "    }\n",
              "\n",
              "    .dataframe thead th {\n",
              "        text-align: right;\n",
              "    }\n",
              "</style>\n",
              "<table border=\"1\" class=\"dataframe\">\n",
              "  <thead>\n",
              "    <tr style=\"text-align: right;\">\n",
              "      <th></th>\n",
              "      <th>SEVERITYCODE</th>\n",
              "      <th>X</th>\n",
              "      <th>Y</th>\n",
              "      <th>OBJECTID</th>\n",
              "      <th>INCKEY</th>\n",
              "      <th>COLDETKEY</th>\n",
              "      <th>REPORTNO</th>\n",
              "      <th>STATUS</th>\n",
              "      <th>ADDRTYPE</th>\n",
              "      <th>INTKEY</th>\n",
              "      <th>LOCATION</th>\n",
              "      <th>EXCEPTRSNCODE</th>\n",
              "      <th>EXCEPTRSNDESC</th>\n",
              "      <th>SEVERITYCODE.1</th>\n",
              "      <th>SEVERITYDESC</th>\n",
              "      <th>COLLISIONTYPE</th>\n",
              "      <th>PERSONCOUNT</th>\n",
              "      <th>PEDCOUNT</th>\n",
              "      <th>PEDCYLCOUNT</th>\n",
              "      <th>VEHCOUNT</th>\n",
              "      <th>INCDATE</th>\n",
              "      <th>INCDTTM</th>\n",
              "      <th>JUNCTIONTYPE</th>\n",
              "      <th>SDOT_COLCODE</th>\n",
              "      <th>SDOT_COLDESC</th>\n",
              "      <th>INATTENTIONIND</th>\n",
              "      <th>UNDERINFL</th>\n",
              "      <th>WEATHER</th>\n",
              "      <th>ROADCOND</th>\n",
              "      <th>LIGHTCOND</th>\n",
              "      <th>PEDROWNOTGRNT</th>\n",
              "      <th>SDOTCOLNUM</th>\n",
              "      <th>SPEEDING</th>\n",
              "      <th>ST_COLCODE</th>\n",
              "      <th>ST_COLDESC</th>\n",
              "      <th>SEGLANEKEY</th>\n",
              "      <th>CROSSWALKKEY</th>\n",
              "      <th>HITPARKEDCAR</th>\n",
              "    </tr>\n",
              "  </thead>\n",
              "  <tbody>\n",
              "    <tr>\n",
              "      <th>0</th>\n",
              "      <td>2</td>\n",
              "      <td>-122.323148</td>\n",
              "      <td>47.703140</td>\n",
              "      <td>1</td>\n",
              "      <td>1307</td>\n",
              "      <td>1307</td>\n",
              "      <td>3502005</td>\n",
              "      <td>Matched</td>\n",
              "      <td>Intersection</td>\n",
              "      <td>37475.0</td>\n",
              "      <td>5TH AVE NE AND NE 103RD ST</td>\n",
              "      <td></td>\n",
              "      <td>NaN</td>\n",
              "      <td>2</td>\n",
              "      <td>Injury Collision</td>\n",
              "      <td>Angles</td>\n",
              "      <td>2</td>\n",
              "      <td>0</td>\n",
              "      <td>0</td>\n",
              "      <td>2</td>\n",
              "      <td>2013/03/27 00:00:00+00</td>\n",
              "      <td>3/27/2013 2:54:00 PM</td>\n",
              "      <td>At Intersection (intersection related)</td>\n",
              "      <td>11</td>\n",
              "      <td>MOTOR VEHICLE STRUCK MOTOR VEHICLE, FRONT END ...</td>\n",
              "      <td>NaN</td>\n",
              "      <td>N</td>\n",
              "      <td>Overcast</td>\n",
              "      <td>Wet</td>\n",
              "      <td>Daylight</td>\n",
              "      <td>NaN</td>\n",
              "      <td>NaN</td>\n",
              "      <td>NaN</td>\n",
              "      <td>10</td>\n",
              "      <td>Entering at angle</td>\n",
              "      <td>0</td>\n",
              "      <td>0</td>\n",
              "      <td>N</td>\n",
              "    </tr>\n",
              "    <tr>\n",
              "      <th>1</th>\n",
              "      <td>1</td>\n",
              "      <td>-122.347294</td>\n",
              "      <td>47.647172</td>\n",
              "      <td>2</td>\n",
              "      <td>52200</td>\n",
              "      <td>52200</td>\n",
              "      <td>2607959</td>\n",
              "      <td>Matched</td>\n",
              "      <td>Block</td>\n",
              "      <td>NaN</td>\n",
              "      <td>AURORA BR BETWEEN RAYE ST AND BRIDGE WAY N</td>\n",
              "      <td>NaN</td>\n",
              "      <td>NaN</td>\n",
              "      <td>1</td>\n",
              "      <td>Property Damage Only Collision</td>\n",
              "      <td>Sideswipe</td>\n",
              "      <td>2</td>\n",
              "      <td>0</td>\n",
              "      <td>0</td>\n",
              "      <td>2</td>\n",
              "      <td>2006/12/20 00:00:00+00</td>\n",
              "      <td>12/20/2006 6:55:00 PM</td>\n",
              "      <td>Mid-Block (not related to intersection)</td>\n",
              "      <td>16</td>\n",
              "      <td>MOTOR VEHICLE STRUCK MOTOR VEHICLE, LEFT SIDE ...</td>\n",
              "      <td>NaN</td>\n",
              "      <td>0</td>\n",
              "      <td>Raining</td>\n",
              "      <td>Wet</td>\n",
              "      <td>Dark - Street Lights On</td>\n",
              "      <td>NaN</td>\n",
              "      <td>6354039.0</td>\n",
              "      <td>NaN</td>\n",
              "      <td>11</td>\n",
              "      <td>From same direction - both going straight - bo...</td>\n",
              "      <td>0</td>\n",
              "      <td>0</td>\n",
              "      <td>N</td>\n",
              "    </tr>\n",
              "    <tr>\n",
              "      <th>2</th>\n",
              "      <td>1</td>\n",
              "      <td>-122.334540</td>\n",
              "      <td>47.607871</td>\n",
              "      <td>3</td>\n",
              "      <td>26700</td>\n",
              "      <td>26700</td>\n",
              "      <td>1482393</td>\n",
              "      <td>Matched</td>\n",
              "      <td>Block</td>\n",
              "      <td>NaN</td>\n",
              "      <td>4TH AVE BETWEEN SENECA ST AND UNIVERSITY ST</td>\n",
              "      <td>NaN</td>\n",
              "      <td>NaN</td>\n",
              "      <td>1</td>\n",
              "      <td>Property Damage Only Collision</td>\n",
              "      <td>Parked Car</td>\n",
              "      <td>4</td>\n",
              "      <td>0</td>\n",
              "      <td>0</td>\n",
              "      <td>3</td>\n",
              "      <td>2004/11/18 00:00:00+00</td>\n",
              "      <td>11/18/2004 10:20:00 AM</td>\n",
              "      <td>Mid-Block (not related to intersection)</td>\n",
              "      <td>14</td>\n",
              "      <td>MOTOR VEHICLE STRUCK MOTOR VEHICLE, REAR END</td>\n",
              "      <td>NaN</td>\n",
              "      <td>0</td>\n",
              "      <td>Overcast</td>\n",
              "      <td>Dry</td>\n",
              "      <td>Daylight</td>\n",
              "      <td>NaN</td>\n",
              "      <td>4323031.0</td>\n",
              "      <td>NaN</td>\n",
              "      <td>32</td>\n",
              "      <td>One parked--one moving</td>\n",
              "      <td>0</td>\n",
              "      <td>0</td>\n",
              "      <td>N</td>\n",
              "    </tr>\n",
              "    <tr>\n",
              "      <th>3</th>\n",
              "      <td>1</td>\n",
              "      <td>-122.334803</td>\n",
              "      <td>47.604803</td>\n",
              "      <td>4</td>\n",
              "      <td>1144</td>\n",
              "      <td>1144</td>\n",
              "      <td>3503937</td>\n",
              "      <td>Matched</td>\n",
              "      <td>Block</td>\n",
              "      <td>NaN</td>\n",
              "      <td>2ND AVE BETWEEN MARION ST AND MADISON ST</td>\n",
              "      <td></td>\n",
              "      <td>NaN</td>\n",
              "      <td>1</td>\n",
              "      <td>Property Damage Only Collision</td>\n",
              "      <td>Other</td>\n",
              "      <td>3</td>\n",
              "      <td>0</td>\n",
              "      <td>0</td>\n",
              "      <td>3</td>\n",
              "      <td>2013/03/29 00:00:00+00</td>\n",
              "      <td>3/29/2013 9:26:00 AM</td>\n",
              "      <td>Mid-Block (not related to intersection)</td>\n",
              "      <td>11</td>\n",
              "      <td>MOTOR VEHICLE STRUCK MOTOR VEHICLE, FRONT END ...</td>\n",
              "      <td>NaN</td>\n",
              "      <td>N</td>\n",
              "      <td>Clear</td>\n",
              "      <td>Dry</td>\n",
              "      <td>Daylight</td>\n",
              "      <td>NaN</td>\n",
              "      <td>NaN</td>\n",
              "      <td>NaN</td>\n",
              "      <td>23</td>\n",
              "      <td>From same direction - all others</td>\n",
              "      <td>0</td>\n",
              "      <td>0</td>\n",
              "      <td>N</td>\n",
              "    </tr>\n",
              "    <tr>\n",
              "      <th>4</th>\n",
              "      <td>2</td>\n",
              "      <td>-122.306426</td>\n",
              "      <td>47.545739</td>\n",
              "      <td>5</td>\n",
              "      <td>17700</td>\n",
              "      <td>17700</td>\n",
              "      <td>1807429</td>\n",
              "      <td>Matched</td>\n",
              "      <td>Intersection</td>\n",
              "      <td>34387.0</td>\n",
              "      <td>SWIFT AVE S AND SWIFT AV OFF RP</td>\n",
              "      <td>NaN</td>\n",
              "      <td>NaN</td>\n",
              "      <td>2</td>\n",
              "      <td>Injury Collision</td>\n",
              "      <td>Angles</td>\n",
              "      <td>2</td>\n",
              "      <td>0</td>\n",
              "      <td>0</td>\n",
              "      <td>2</td>\n",
              "      <td>2004/01/28 00:00:00+00</td>\n",
              "      <td>1/28/2004 8:04:00 AM</td>\n",
              "      <td>At Intersection (intersection related)</td>\n",
              "      <td>11</td>\n",
              "      <td>MOTOR VEHICLE STRUCK MOTOR VEHICLE, FRONT END ...</td>\n",
              "      <td>NaN</td>\n",
              "      <td>0</td>\n",
              "      <td>Raining</td>\n",
              "      <td>Wet</td>\n",
              "      <td>Daylight</td>\n",
              "      <td>NaN</td>\n",
              "      <td>4028032.0</td>\n",
              "      <td>NaN</td>\n",
              "      <td>10</td>\n",
              "      <td>Entering at angle</td>\n",
              "      <td>0</td>\n",
              "      <td>0</td>\n",
              "      <td>N</td>\n",
              "    </tr>\n",
              "  </tbody>\n",
              "</table>\n",
              "</div>"
            ],
            "text/plain": [
              "   SEVERITYCODE           X          Y  ...  SEGLANEKEY  CROSSWALKKEY  HITPARKEDCAR\n",
              "0             2 -122.323148  47.703140  ...           0             0             N\n",
              "1             1 -122.347294  47.647172  ...           0             0             N\n",
              "2             1 -122.334540  47.607871  ...           0             0             N\n",
              "3             1 -122.334803  47.604803  ...           0             0             N\n",
              "4             2 -122.306426  47.545739  ...           0             0             N\n",
              "\n",
              "[5 rows x 38 columns]"
            ]
          },
          "metadata": {
            "tags": []
          },
          "execution_count": 21
        }
      ]
    },
    {
      "cell_type": "code",
      "metadata": {
        "id": "6CqpymkGs04O",
        "colab_type": "code",
        "colab": {}
      },
      "source": [
        "#Converting Severity Code from (1/2) tp (0/1)\n",
        "from sklearn import preprocessing\n",
        "severity_code = Dataset['SEVERITYCODE'].values\n",
        "labels = preprocessing.LabelEncoder()\n",
        "labels.fit([1, 2])\n",
        "severity_code = labels.transform (severity_code)\n",
        "Dataset[\"SEVERITYCODE\"] = severity_code"
      ],
      "execution_count": 22,
      "outputs": []
    },
    {
      "cell_type": "code",
      "metadata": {
        "id": "LrSZ_dcIs2qc",
        "colab_type": "code",
        "colab": {}
      },
      "source": [
        "#Encoding inattention (0 = No, 1 = Yes)\n",
        "Dataset[\"INATTENTIONIND\"].replace(\"Y\", 1, inplace=True)\n",
        "Dataset[\"INATTENTIONIND\"].replace(np.nan, 0, inplace=True)\n",
        "\n",
        "#Encoding Under influence (0 = No, 1 = Yes)\n",
        "Dataset[\"UNDERINFL\"].replace(\"N\", int(0), inplace=True)\n",
        "Dataset[\"UNDERINFL\"].replace(\"Y\", int(1), inplace=True)\n",
        "\n",
        "#Encoding Speeding (0 = No, 1 = Yes)\n",
        "Dataset[\"SPEEDING\"].replace(\"Y\", 1, inplace=True)\n",
        "Dataset[\"SPEEDING\"].replace(np.nan, int(0), inplace=True)\n",
        "\n",
        "#Encoding Road Conditions(0 = Dry, 1 = Mushy, 2 = Wet)\n",
        "Dataset[\"ROADCOND\"].replace(\"Dry\", 0, inplace=True)\n",
        "Dataset[\"ROADCOND\"].replace(\"Wet\", 2, inplace=True)\n",
        "Dataset[\"ROADCOND\"].replace(\"Ice\", 2, inplace=True)\n",
        "Dataset[\"ROADCOND\"].replace(\"Snow/Slush\", 1, inplace=True)\n",
        "Dataset[\"ROADCOND\"].replace(\"Other\", \"Unknown\", inplace=True)\n",
        "Dataset[\"ROADCOND\"].replace(\"Standing Water\", 2, inplace=True)\n",
        "Dataset[\"ROADCOND\"].replace(\"Sand/Mud/Dirt\", 1, inplace=True)\n",
        "Dataset[\"ROADCOND\"].replace(\"Oil\", 2, inplace=True)\n",
        "\n",
        "#Encoding Weather Conditions(0 = Clear, 1 = Overcast and Cloudy, 2 = Windy, 3 = Rain and Snow\n",
        "Dataset[\"WEATHER\"].replace(\"Clear\", 0, inplace=True)\n",
        "Dataset[\"WEATHER\"].replace(\"Raining\", 3, inplace=True)\n",
        "Dataset[\"WEATHER\"].replace(\"Overcast\", 1, inplace=True)\n",
        "Dataset[\"WEATHER\"].replace(\"Other\", \"Unknown\", inplace=True)\n",
        "Dataset[\"WEATHER\"].replace(\"Snowing\", 3, inplace=True)\n",
        "Dataset[\"WEATHER\"].replace(\"Fog/Smog/Smoke\", 2, inplace=True)\n",
        "Dataset[\"WEATHER\"].replace(\"Sleet/Hail/Freezing Rain\", 3, inplace=True)\n",
        "Dataset[\"WEATHER\"].replace(\"Blowing Sand/Dirt\", 2, inplace=True)\n",
        "Dataset[\"WEATHER\"].replace(\"Severe Crosswind\", 2, inplace=True)\n",
        "Dataset[\"WEATHER\"].replace(\"Partly Cloudy\", 1, inplace=True)\n",
        "\n",
        "#Encoding Light Conditions(0 = Light, 1 = Medium, 2 = Dark)\n",
        "Dataset[\"LIGHTCOND\"].replace(\"Daylight\", 0, inplace=True)\n",
        "Dataset[\"LIGHTCOND\"].replace(\"Dark - Street Lights On\", 1, inplace=True)\n",
        "Dataset[\"LIGHTCOND\"].replace(\"Dark - No Street Lights\", 2, inplace=True)\n",
        "Dataset[\"LIGHTCOND\"].replace(\"Dusk\", 1, inplace=True)\n",
        "Dataset[\"LIGHTCOND\"].replace(\"Dawn\", 1, inplace=True)\n",
        "Dataset[\"LIGHTCOND\"].replace(\"Dark - Street Lights Off\", 2, inplace=True)\n",
        "Dataset[\"LIGHTCOND\"].replace(\"Dark - Unknown Lighting\", 2, inplace=True)\n",
        "Dataset[\"LIGHTCOND\"].replace(\"Other\",\"Unknown\", inplace=True)"
      ],
      "execution_count": 23,
      "outputs": []
    },
    {
      "cell_type": "code",
      "metadata": {
        "id": "7jQ6xk21s4Mj",
        "colab_type": "code",
        "colab": {
          "base_uri": "https://localhost:8080/",
          "height": 397
        },
        "outputId": "70458194-15c1-4db9-995f-ed011a080471"
      },
      "source": [
        "coltype=Dataset['COLLISIONTYPE'].value_counts()\n",
        "coltype.plot(kind='pie',\n",
        "            figsize=(15, 6),\n",
        "            autopct='%1.1f%%',\n",
        "            startangle=90,\n",
        "            shadow=True,\n",
        "            labels=None,\n",
        "            pctdistance=1.12)\n",
        "\n",
        "plt.title('Collision Type - Seattle, Washington', fontsize=18, y=1.05)\n",
        "plt.axis('equal')\n",
        "plt.legend(labels=coltype.index)\n",
        "\n",
        "plt.show()"
      ],
      "execution_count": 24,
      "outputs": [
        {
          "output_type": "display_data",
          "data": {
            "image/png": "[encoded data removed]",
            "text/plain": [
              "<Figure size 1080x432 with 1 Axes>"
            ]
          },
          "metadata": {
            "tags": []
          }
        }
      ]
    },
    {
      "cell_type": "code",
      "metadata": {
        "id": "mrFvTTQIs9rz",
        "colab_type": "code",
        "colab": {
          "base_uri": "https://localhost:8080/",
          "height": 397
        },
        "outputId": "8790225f-d799-405c-fd20-ff9987118954"
      },
      "source": [
        "dff=Dataset[['UNDERINFL']]\n",
        "dff=dff.dropna()\n",
        "dff['UNDERINFL'] = dff['UNDERINFL'].astype(int)\n",
        "dff['UNDERINFL'].value_counts()\n",
        "\n",
        "INFL=dff['UNDERINFL'].value_counts()\n",
        "INFL.plot(kind='pie',\n",
        "            figsize=(15, 6),\n",
        "            autopct='%1.1f%%',\n",
        "            startangle=90,\n",
        "            shadow=True,\n",
        "            labels=None,\n",
        "            pctdistance=1.12,\n",
        "            explode=(0, 0.2))\n",
        "\n",
        "plt.title('Collision under influence of drugs or alcohol', fontsize=18, y=1.05)\n",
        "plt.axis('equal')\n",
        "plt.legend(labels=['No','Yes'])\n",
        "plt.show()"
      ],
      "execution_count": 25,
      "outputs": [
        {
          "output_type": "display_data",
          "data": {
            "image/png": "[encoded data removed]",
            "text/plain": [
              "<Figure size 1080x432 with 1 Axes>"
            ]
          },
          "metadata": {
            "tags": []
          }
        }
      ]
    },
    {
      "cell_type": "code",
      "metadata": {
        "id": "8dkhMCuStAh7",
        "colab_type": "code",
        "colab": {
          "base_uri": "https://localhost:8080/",
          "height": 419
        },
        "outputId": "46bc7a82-ae1a-4d30-820f-ce3f0e64ba71"
      },
      "source": [
        "#Feature Selection\n",
        "df=Dataset[[\"X\",\"Y\",\"INCKEY\",\"INATTENTIONIND\",\"UNDERINFL\",\"WEATHER\",\"ROADCOND\",\"LIGHTCOND\",\"SPEEDING\",\"SEVERITYCODE\"]]\n",
        "df"
      ],
      "execution_count": 26,
      "outputs": [
        {
          "output_type": "execute_result",
          "data": {
            "text/html": [
              "<div>\n",
              "<style scoped>\n",
              "    .dataframe tbody tr th:only-of-type {\n",
              "        vertical-align: middle;\n",
              "    }\n",
              "\n",
              "    .dataframe tbody tr th {\n",
              "        vertical-align: top;\n",
              "    }\n",
              "\n",
              "    .dataframe thead th {\n",
              "        text-align: right;\n",
              "    }\n",
              "</style>\n",
              "<table border=\"1\" class=\"dataframe\">\n",
              "  <thead>\n",
              "    <tr style=\"text-align: right;\">\n",
              "      <th></th>\n",
              "      <th>X</th>\n",
              "      <th>Y</th>\n",
              "      <th>INCKEY</th>\n",
              "      <th>INATTENTIONIND</th>\n",
              "      <th>UNDERINFL</th>\n",
              "      <th>WEATHER</th>\n",
              "      <th>ROADCOND</th>\n",
              "      <th>LIGHTCOND</th>\n",
              "      <th>SPEEDING</th>\n",
              "      <th>SEVERITYCODE</th>\n",
              "    </tr>\n",
              "  </thead>\n",
              "  <tbody>\n",
              "    <tr>\n",
              "      <th>0</th>\n",
              "      <td>-122.323148</td>\n",
              "      <td>47.703140</td>\n",
              "      <td>1307</td>\n",
              "      <td>0.0</td>\n",
              "      <td>0</td>\n",
              "      <td>1</td>\n",
              "      <td>2</td>\n",
              "      <td>0</td>\n",
              "      <td>0.0</td>\n",
              "      <td>1</td>\n",
              "    </tr>\n",
              "    <tr>\n",
              "      <th>1</th>\n",
              "      <td>-122.347294</td>\n",
              "      <td>47.647172</td>\n",
              "      <td>52200</td>\n",
              "      <td>0.0</td>\n",
              "      <td>0</td>\n",
              "      <td>3</td>\n",
              "      <td>2</td>\n",
              "      <td>1</td>\n",
              "      <td>0.0</td>\n",
              "      <td>0</td>\n",
              "    </tr>\n",
              "    <tr>\n",
              "      <th>2</th>\n",
              "      <td>-122.334540</td>\n",
              "      <td>47.607871</td>\n",
              "      <td>26700</td>\n",
              "      <td>0.0</td>\n",
              "      <td>0</td>\n",
              "      <td>1</td>\n",
              "      <td>0</td>\n",
              "      <td>0</td>\n",
              "      <td>0.0</td>\n",
              "      <td>0</td>\n",
              "    </tr>\n",
              "    <tr>\n",
              "      <th>3</th>\n",
              "      <td>-122.334803</td>\n",
              "      <td>47.604803</td>\n",
              "      <td>1144</td>\n",
              "      <td>0.0</td>\n",
              "      <td>0</td>\n",
              "      <td>0</td>\n",
              "      <td>0</td>\n",
              "      <td>0</td>\n",
              "      <td>0.0</td>\n",
              "      <td>0</td>\n",
              "    </tr>\n",
              "    <tr>\n",
              "      <th>4</th>\n",
              "      <td>-122.306426</td>\n",
              "      <td>47.545739</td>\n",
              "      <td>17700</td>\n",
              "      <td>0.0</td>\n",
              "      <td>0</td>\n",
              "      <td>3</td>\n",
              "      <td>2</td>\n",
              "      <td>0</td>\n",
              "      <td>0.0</td>\n",
              "      <td>1</td>\n",
              "    </tr>\n",
              "    <tr>\n",
              "      <th>...</th>\n",
              "      <td>...</td>\n",
              "      <td>...</td>\n",
              "      <td>...</td>\n",
              "      <td>...</td>\n",
              "      <td>...</td>\n",
              "      <td>...</td>\n",
              "      <td>...</td>\n",
              "      <td>...</td>\n",
              "      <td>...</td>\n",
              "      <td>...</td>\n",
              "    </tr>\n",
              "    <tr>\n",
              "      <th>194668</th>\n",
              "      <td>-122.290826</td>\n",
              "      <td>47.565408</td>\n",
              "      <td>309534</td>\n",
              "      <td>0.0</td>\n",
              "      <td>0</td>\n",
              "      <td>0</td>\n",
              "      <td>0</td>\n",
              "      <td>0</td>\n",
              "      <td>0.0</td>\n",
              "      <td>1</td>\n",
              "    </tr>\n",
              "    <tr>\n",
              "      <th>194669</th>\n",
              "      <td>-122.344526</td>\n",
              "      <td>47.690924</td>\n",
              "      <td>309085</td>\n",
              "      <td>1.0</td>\n",
              "      <td>0</td>\n",
              "      <td>3</td>\n",
              "      <td>2</td>\n",
              "      <td>0</td>\n",
              "      <td>0.0</td>\n",
              "      <td>0</td>\n",
              "    </tr>\n",
              "    <tr>\n",
              "      <th>194670</th>\n",
              "      <td>-122.306689</td>\n",
              "      <td>47.683047</td>\n",
              "      <td>311280</td>\n",
              "      <td>0.0</td>\n",
              "      <td>0</td>\n",
              "      <td>0</td>\n",
              "      <td>0</td>\n",
              "      <td>0</td>\n",
              "      <td>0.0</td>\n",
              "      <td>1</td>\n",
              "    </tr>\n",
              "    <tr>\n",
              "      <th>194671</th>\n",
              "      <td>-122.355317</td>\n",
              "      <td>47.678734</td>\n",
              "      <td>309514</td>\n",
              "      <td>0.0</td>\n",
              "      <td>0</td>\n",
              "      <td>0</td>\n",
              "      <td>0</td>\n",
              "      <td>1</td>\n",
              "      <td>0.0</td>\n",
              "      <td>1</td>\n",
              "    </tr>\n",
              "    <tr>\n",
              "      <th>194672</th>\n",
              "      <td>-122.289360</td>\n",
              "      <td>47.611017</td>\n",
              "      <td>308220</td>\n",
              "      <td>0.0</td>\n",
              "      <td>0</td>\n",
              "      <td>0</td>\n",
              "      <td>2</td>\n",
              "      <td>0</td>\n",
              "      <td>0.0</td>\n",
              "      <td>0</td>\n",
              "    </tr>\n",
              "  </tbody>\n",
              "</table>\n",
              "<p>194673 rows × 10 columns</p>\n",
              "</div>"
            ],
            "text/plain": [
              "                 X          Y  INCKEY  ...  LIGHTCOND SPEEDING SEVERITYCODE\n",
              "0      -122.323148  47.703140    1307  ...          0      0.0            1\n",
              "1      -122.347294  47.647172   52200  ...          1      0.0            0\n",
              "2      -122.334540  47.607871   26700  ...          0      0.0            0\n",
              "3      -122.334803  47.604803    1144  ...          0      0.0            0\n",
              "4      -122.306426  47.545739   17700  ...          0      0.0            1\n",
              "...            ...        ...     ...  ...        ...      ...          ...\n",
              "194668 -122.290826  47.565408  309534  ...          0      0.0            1\n",
              "194669 -122.344526  47.690924  309085  ...          0      0.0            0\n",
              "194670 -122.306689  47.683047  311280  ...          0      0.0            1\n",
              "194671 -122.355317  47.678734  309514  ...          1      0.0            1\n",
              "194672 -122.289360  47.611017  308220  ...          0      0.0            0\n",
              "\n",
              "[194673 rows x 10 columns]"
            ]
          },
          "metadata": {
            "tags": []
          },
          "execution_count": 26
        }
      ]
    },
    {
      "cell_type": "code",
      "metadata": {
        "id": "vvzJPhCVtBIC",
        "colab_type": "code",
        "colab": {
          "base_uri": "https://localhost:8080/",
          "height": 204
        },
        "outputId": "b5eca3e4-84a3-479f-c222-5226f6c87972"
      },
      "source": [
        "print(df.isnull().sum())  #Null Values"
      ],
      "execution_count": 27,
      "outputs": [
        {
          "output_type": "stream",
          "text": [
            "X                 5334\n",
            "Y                 5334\n",
            "INCKEY               0\n",
            "INATTENTIONIND       0\n",
            "UNDERINFL         4884\n",
            "WEATHER           5081\n",
            "ROADCOND          5012\n",
            "LIGHTCOND         5170\n",
            "SPEEDING             0\n",
            "SEVERITYCODE         0\n",
            "dtype: int64\n"
          ],
          "name": "stdout"
        }
      ]
    },
    {
      "cell_type": "code",
      "metadata": {
        "id": "4RJeyZDitDOr",
        "colab_type": "code",
        "colab": {
          "base_uri": "https://localhost:8080/",
          "height": 204
        },
        "outputId": "1a4c077a-a66d-4647-f291-f2c6ba70354d"
      },
      "source": [
        "df = df.dropna()  #Dropping the missing values.\n",
        "df.count()"
      ],
      "execution_count": 28,
      "outputs": [
        {
          "output_type": "execute_result",
          "data": {
            "text/plain": [
              "X                 184167\n",
              "Y                 184167\n",
              "INCKEY            184167\n",
              "INATTENTIONIND    184167\n",
              "UNDERINFL         184167\n",
              "WEATHER           184167\n",
              "ROADCOND          184167\n",
              "LIGHTCOND         184167\n",
              "SPEEDING          184167\n",
              "SEVERITYCODE      184167\n",
              "dtype: int64"
            ]
          },
          "metadata": {
            "tags": []
          },
          "execution_count": 28
        }
      ]
    },
    {
      "cell_type": "code",
      "metadata": {
        "id": "jgnB1Qa8tEws",
        "colab_type": "code",
        "colab": {
          "base_uri": "https://localhost:8080/",
          "height": 204
        },
        "outputId": "aea2fdf2-e8c8-4d30-e3cf-24a29ea1b7bc"
      },
      "source": [
        "print(df.isnull().sum()) #Current number of missing values"
      ],
      "execution_count": 29,
      "outputs": [
        {
          "output_type": "stream",
          "text": [
            "X                 0\n",
            "Y                 0\n",
            "INCKEY            0\n",
            "INATTENTIONIND    0\n",
            "UNDERINFL         0\n",
            "WEATHER           0\n",
            "ROADCOND          0\n",
            "LIGHTCOND         0\n",
            "SPEEDING          0\n",
            "SEVERITYCODE      0\n",
            "dtype: int64\n"
          ],
          "name": "stdout"
        }
      ]
    },
    {
      "cell_type": "code",
      "metadata": {
        "id": "CKIlyxyMtGQj",
        "colab_type": "code",
        "colab": {}
      },
      "source": [
        "#Fixing 'Others' value\n",
        "feature_df=df.copy()\n",
        "\n",
        "feature_df.dropna(axis=0,how='any',inplace=True)\n",
        "feature_stats=feature_df.describe()\n",
        "\n",
        "np.count_nonzero(feature_df['UNDERINFL'])\n",
        "\n",
        "    #Light Condition\n",
        "lightcondsize = feature_df [\"LIGHTCOND\"].size\n",
        "\n",
        "featureinlightcond = feature_df ['LIGHTCOND'] == 'Unknown'\n",
        "\n",
        "lightcond = feature_df['LIGHTCOND']\n",
        "lightcond = lightcond.values\n",
        "lightcond = lightcond[featureinlightcond]\n",
        "\n",
        "lightcond[0:9036]=0\n",
        "lightcond[9036:13417]=1\n",
        "lightcond[13417:13961]=2\n",
        "feature_df.loc [feature_df.LIGHTCOND == \"Unknown\", 'LIGHTCOND'] = lightcond\n",
        "\n",
        "feature_df[\"LIGHTCOND\"]=feature_df[\"LIGHTCOND\"].astype(int)\n",
        "\n",
        "\n",
        "roadcondsize = feature_df [\"ROADCOND\"].size\n",
        "\n",
        "featureinroadcond = feature_df ['ROADCOND'] == 'Unknown'\n",
        "\n",
        "roadcond = feature_df['LIGHTCOND']\n",
        "roadcond = roadcond.values\n",
        "roadcond = roadcond[featureinroadcond]\n",
        "\n",
        "roadcond[0:9954]=0\n",
        "roadcond[9954:10040]=1\n",
        "roadcond[10040:15163]=2\n",
        "\n",
        "feature_df.loc[feature_df.ROADCOND == \"Unknown\", 'ROADCOND'] = roadcond\n",
        "feature_df[\"ROADCOND\"]=feature_df[\"ROADCOND\"].astype(int)\n",
        "\n",
        " #Weather Condition\n",
        "weathersize = feature_df [\"WEATHER\"].size\n",
        "\n",
        "featureinweather = feature_df ['WEATHER'] == 'Unknown'\n",
        "\n",
        "weather = feature_df['WEATHER']\n",
        "weather = weather.values\n",
        "weather = weather[featureinweather]\n",
        "\n",
        "weather[0:10151]=0\n",
        "weather[10151:12683]=1\n",
        "weather[12683:12742]=2\n",
        "weather[12742:15864]=3\n",
        "\n",
        "feature_df.loc[feature_df.WEATHER == \"Unknown\", 'WEATHER'] = weather\n",
        "feature_df[\"WEATHER\"]=feature_df[\"WEATHER\"].astype(int)\n",
        "\n",
        "    #Converting remaining to int\n",
        "feature_df[\"SPEEDING\"]=feature_df[\"SPEEDING\"].astype(int)\n",
        "feature_df[\"INATTENTIONIND\"]=feature_df[\"INATTENTIONIND\"].astype(int)\n",
        "feature_df[\"UNDERINFL\"]=feature_df[\"UNDERINFL\"].astype(int)"
      ],
      "execution_count": 30,
      "outputs": []
    },
    {
      "cell_type": "code",
      "metadata": {
        "id": "lYP3sZZJtPsF",
        "colab_type": "code",
        "colab": {
          "base_uri": "https://localhost:8080/",
          "height": 306
        },
        "outputId": "3edbfb88-b3c2-42e9-96a5-0e4ac8b988ca"
      },
      "source": [
        "feature_df.info()"
      ],
      "execution_count": 31,
      "outputs": [
        {
          "output_type": "stream",
          "text": [
            "<class 'pandas.core.frame.DataFrame'>\n",
            "Int64Index: 184167 entries, 0 to 194672\n",
            "Data columns (total 10 columns):\n",
            " #   Column          Non-Null Count   Dtype  \n",
            "---  ------          --------------   -----  \n",
            " 0   X               184167 non-null  float64\n",
            " 1   Y               184167 non-null  float64\n",
            " 2   INCKEY          184167 non-null  int64  \n",
            " 3   INATTENTIONIND  184167 non-null  int64  \n",
            " 4   UNDERINFL       184167 non-null  int64  \n",
            " 5   WEATHER         184167 non-null  int64  \n",
            " 6   ROADCOND        184167 non-null  int64  \n",
            " 7   LIGHTCOND       184167 non-null  int64  \n",
            " 8   SPEEDING        184167 non-null  int64  \n",
            " 9   SEVERITYCODE    184167 non-null  int64  \n",
            "dtypes: float64(2), int64(8)\n",
            "memory usage: 15.5 MB\n"
          ],
          "name": "stdout"
        }
      ]
    },
    {
      "cell_type": "code",
      "metadata": {
        "id": "0VCoRN_itR2E",
        "colab_type": "code",
        "colab": {}
      },
      "source": [
        "#Machine Learning Set\n",
        "X=feature_df[[\"SPEEDING\",\"INATTENTIONIND\",\"UNDERINFL\",\"ROADCOND\",\"WEATHER\",\"LIGHTCOND\"]].values\n",
        "y=feature_df[[\"SEVERITYCODE\"]].values"
      ],
      "execution_count": 32,
      "outputs": []
    },
    {
      "cell_type": "code",
      "metadata": {
        "id": "eeMNvdoLtTQ1",
        "colab_type": "code",
        "colab": {
          "base_uri": "https://localhost:8080/",
          "height": 51
        },
        "outputId": "ff3e0520-569e-47fe-fe9b-8a3254c8c7c7"
      },
      "source": [
        "#Train/Test Split\n",
        "from sklearn.model_selection import train_test_split\n",
        "X_train, X_test, y_train, y_test = train_test_split(X, y, test_size=0.3, random_state=4)\n",
        "print ('Train set:', X_train.shape,  y_train.shape)\n",
        "print ('Test set:', X_test.shape,  y_test.shape)"
      ],
      "execution_count": 33,
      "outputs": [
        {
          "output_type": "stream",
          "text": [
            "Train set: (128916, 6) (128916, 1)\n",
            "Test set: (55251, 6) (55251, 1)\n"
          ],
          "name": "stdout"
        }
      ]
    },
    {
      "cell_type": "code",
      "metadata": {
        "id": "VNy0k_jQyHV-",
        "colab_type": "code",
        "colab": {}
      },
      "source": [
        "import folium\n",
        "import webbrowser\n",
        "from folium import plugins\n",
        "\n",
        "#Make reduced df from feature_df to get a few random points to make map\n",
        "limit = 100005\n",
        "reduced_df = feature_df.iloc [0:limit:5, 0:]\n",
        "\n",
        "#Folium Map\n",
        "# let's start again with a clean copy of the map of San Francisco\n",
        "seattle_map = folium.Map(location=[47.61536892, -122.3302243], zoom_start=10)\n",
        "\n",
        "# instantiate a mark cluster object for the incidents in the dataframe\n",
        "incidents = plugins.MarkerCluster().add_to(seattle_map)\n",
        "\n",
        "# loop through the dataframe and add each data point to the mark cluster\n",
        "for lat, lng, label, in zip(reduced_df.Y, reduced_df.X, reduced_df.SEVERITYCODE):\n",
        "    folium.Marker(\n",
        "    location=[lat, lng],\n",
        "    icon=None,\n",
        "    popup=label,\n",
        "    ).add_to(incidents)\n",
        "\n",
        "seattle_map.add_child(incidents)\n",
        "\n",
        "# display map\n",
        "seattle_map\n",
        "seattle_map.save(\"seattlemap.html\")\n",
        "webbrowser.open(\"seattlemap.html\")"
      ],
      "execution_count": null,
      "outputs": []
    },
    {
      "cell_type": "code",
      "metadata": {
        "id": "ww8F6XkHtWMz",
        "colab_type": "code",
        "colab": {
          "base_uri": "https://localhost:8080/",
          "height": 34
        },
        "outputId": "82c38612-4f16-4882-a22e-d14f0fa5b988"
      },
      "source": [
        "from sklearn.metrics import accuracy_score,f1_score,log_loss,classification_report,confusion_matrix,jaccard_score\n",
        "from sklearn.tree import DecisionTreeClassifier\n",
        "DT = DecisionTreeClassifier(criterion=\"entropy\", max_depth=6)\n",
        "DT.fit(X_train,y_train)\n",
        "\n",
        "        #Make Prediction:\n",
        "pred_DT = DT.predict(X_test)\n",
        "\n",
        "        #Check Accuracy\n",
        "print('Accuracy score for Decision Tree = ', accuracy_score(pred_DT, y_test))"
      ],
      "execution_count": 35,
      "outputs": [
        {
          "output_type": "stream",
          "text": [
            "Accuracy score for Decision Tree =  0.6960055021628567\n"
          ],
          "name": "stdout"
        }
      ]
    },
    {
      "cell_type": "code",
      "metadata": {
        "id": "byirMh7EtXgk",
        "colab_type": "code",
        "colab": {}
      },
      "source": [
        "from sklearn.metrics import classification_report, confusion_matrix\n",
        "import itertools\n",
        "def plot_confusion_matrix(cm, classes,\n",
        "                          normalize=False,\n",
        "                          title='Confusion matrix',\n",
        "                          cmap=plt.cm.Blues):\n",
        "   \n",
        "    if normalize:\n",
        "        cm = cm.astype('float') / cm.sum(axis=1)[:, np.newaxis]\n",
        "        print(\"Normalized confusion matrix\")\n",
        "    else:\n",
        "        print('Confusion matrix, without normalization')\n",
        "\n",
        "    print(cm)\n",
        "\n",
        "    plt.imshow(cm, interpolation='nearest', cmap=cmap)\n",
        "    plt.title(title)\n",
        "    plt.colorbar()\n",
        "    tick_marks = np.arange(len(classes))\n",
        "    plt.xticks(tick_marks, classes, rotation=45)\n",
        "    plt.yticks(tick_marks, classes)\n",
        "\n",
        "    fmt = '.2f' if normalize else 'd'\n",
        "    thresh = cm.max() / 2.\n",
        "    for i, j in itertools.product(range(cm.shape[0]), range(cm.shape[1])):\n",
        "        plt.text(j, i, format(cm[i, j], fmt),\n",
        "                 horizontalalignment=\"center\",\n",
        "                 color=\"white\" if cm[i, j] > thresh else \"black\")\n",
        "\n",
        "    plt.tight_layout()\n",
        "    plt.ylabel('True label')\n",
        "    plt.xlabel('Predicted label')"
      ],
      "execution_count": 39,
      "outputs": []
    },
    {
      "cell_type": "code",
      "metadata": {
        "id": "D2OSPR1EtZJD",
        "colab_type": "code",
        "colab": {
          "base_uri": "https://localhost:8080/",
          "height": 362
        },
        "outputId": "ddba2a32-9d62-430a-c8b9-1760a3013868"
      },
      "source": [
        "#Plot confusion matrix\n",
        "cnf_matrix = confusion_matrix(y_test, pred_DT, labels=[1,0])\n",
        "np.set_printoptions(precision=2)\n",
        "\n",
        "plt.figure()\n",
        "plot_confusion_matrix(cnf_matrix, classes=['Injury=1','Property Damage=0'],normalize= False,  title='Confusion matrix')"
      ],
      "execution_count": 40,
      "outputs": [
        {
          "output_type": "stream",
          "text": [
            "Confusion matrix, without normalization\n",
            "[[   34 16772]\n",
            " [   24 38421]]\n"
          ],
          "name": "stdout"
        },
        {
          "output_type": "display_data",
          "data": {
            "image/png": "[encoded data removed]",
            "text/plain": [
              "<Figure size 432x288 with 2 Axes>"
            ]
          },
          "metadata": {
            "tags": [],
            "needs_background": "light"
          }
        }
      ]
    },
    {
      "cell_type": "code",
      "metadata": {
        "id": "P68c2PtgtawT",
        "colab_type": "code",
        "colab": {
          "base_uri": "https://localhost:8080/",
          "height": 88
        },
        "outputId": "e94f5101-a3f1-43bc-a6b6-8fc659ec00b3"
      },
      "source": [
        "#Logistic Regression\n",
        "from sklearn.linear_model import LogisticRegression\n",
        "LR = LogisticRegression(C=0.01, solver='liblinear').fit(X_train,y_train)\n",
        "\n",
        "yhatLR = LR.predict(X_test)\n",
        "yhat_prob = LR.predict_proba(X_test)\n",
        "\n",
        "print (\"Accuracy\", accuracy_score(yhatLR,y_test))"
      ],
      "execution_count": 41,
      "outputs": [
        {
          "output_type": "stream",
          "text": [
            "Accuracy 0.6956435177643844\n"
          ],
          "name": "stdout"
        },
        {
          "output_type": "stream",
          "text": [
            "/usr/local/lib/python3.6/dist-packages/sklearn/utils/validation.py:760: DataConversionWarning: A column-vector y was passed when a 1d array was expected. Please change the shape of y to (n_samples, ), for example using ravel().\n",
            "  y = column_or_1d(y, warn=True)\n"
          ],
          "name": "stderr"
        }
      ]
    },
    {
      "cell_type": "code",
      "metadata": {
        "id": "tCBTKg4htczA",
        "colab_type": "code",
        "colab": {
          "base_uri": "https://localhost:8080/",
          "height": 362
        },
        "outputId": "2f29d2d1-9f78-48e1-c81a-e381e32fcdbd"
      },
      "source": [
        "#Plot confusion matrix\n",
        "cnf_matrix = confusion_matrix(y_test, yhatLR, labels=[1,0])\n",
        "np.set_printoptions(precision=2)\n",
        "plt.figure()\n",
        "plot_confusion_matrix(cnf_matrix, classes=['Injury=1','Property Damage=0'],normalize= False,  title='Confusion matrix')"
      ],
      "execution_count": 42,
      "outputs": [
        {
          "output_type": "stream",
          "text": [
            "Confusion matrix, without normalization\n",
            "[[    4 16802]\n",
            " [   14 38431]]\n"
          ],
          "name": "stdout"
        },
        {
          "output_type": "display_data",
          "data": {
            "image/png": "[encoded data removed]",
            "text/plain": [
              "<Figure size 432x288 with 2 Axes>"
            ]
          },
          "metadata": {
            "tags": [],
            "needs_background": "light"
          }
        }
      ]
    }
  ]
}