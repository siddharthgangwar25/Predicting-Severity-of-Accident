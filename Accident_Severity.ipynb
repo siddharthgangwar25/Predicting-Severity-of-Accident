{
  "nbformat": 4,
  "nbformat_minor": 0,
  "metadata": {
    "colab": {
      "name": "Accident_Severity.ipynb",
      "provenance": [],
      "authorship_tag": "ABX9TyNGsqCnJ85/W9Zo4tr9C0Ws",
      "include_colab_link": true
    },
    "kernelspec": {
      "name": "python3",
      "display_name": "Python 3"
    }
  },
  "cells": [
    {
      "cell_type": "markdown",
      "metadata": {
        "id": "view-in-github",
        "colab_type": "text"
      },
      "source": [
        "<a href=\"https://colab.research.google.com/github/siddharthgangwar25/Severity-of-Accident-Prediction-Coursera_Capstone/blob/master/Accident_Severity.ipynb\" target=\"_parent\"><img src=\"https://colab.research.google.com/assets/colab-badge.svg\" alt=\"Open In Colab\"/></a>"
      ]
    },
    {
      "cell_type": "markdown",
      "metadata": {
        "id": "t4bcyiFEypTS",
        "colab_type": "text"
      },
      "source": [
        "#**Severity of Accident Prediction**\n",
        "###(Coursera Capstone)"
      ]
    },
    {
      "cell_type": "code",
      "metadata": {
        "id": "-fCk9a1dw6Ha",
        "colab_type": "code",
        "colab": {
          "base_uri": "https://localhost:8080/",
          "height": 34
        },
        "outputId": "3933207f-102f-4ed4-f3af-e12f4286af04"
      },
      "source": [
        "import pandas as pd\n",
        "import numpy as np\n",
        "print(\"Hello Capstone Project Course!\")"
      ],
      "execution_count": null,
      "outputs": [
        {
          "output_type": "stream",
          "text": [
            "Hello Capstone Project Course!\n"
          ],
          "name": "stdout"
        }
      ]
    }
  ]
}